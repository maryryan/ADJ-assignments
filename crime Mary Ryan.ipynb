{
 "cells": [
  {
   "cell_type": "markdown",
   "metadata": {},
   "source": [
    "Columbia, Mo., a town of about 100,000, is home to three universities - one being one of the largest in the state. With sexual assault being a hot button issue in the national news, and one of particular interest in Columbia after the University of Missouri restructured its Title IX system in 2014 following the Sasha Menu Courey scandal. It is my goal to compare Columbia's forcible sex act per 100,000 students rate to that in Missouri and the nation as a whole, as well as with two other large cities — Kansas City and St. Louis — to see if forced sexual acts are a particular problem in this college town."
   ]
  },
  {
   "cell_type": "code",
   "execution_count": 1,
   "metadata": {
    "collapsed": false
   },
   "outputs": [],
   "source": [
    "import csv\n",
    "import agate"
   ]
  },
  {
   "cell_type": "code",
   "execution_count": 2,
   "metadata": {
    "collapsed": false
   },
   "outputs": [],
   "source": [
    "crime = agate.Table.from_csv('oncampuscrime111213.csv', encoding=\"latin-1\")"
   ]
  },
  {
   "cell_type": "code",
   "execution_count": 3,
   "metadata": {
    "collapsed": true
   },
   "outputs": [],
   "source": [
    "hate = agate.Table.from_csv('oncampushate111213.csv', encoding=\"latin-1\")"
   ]
  },
  {
   "cell_type": "markdown",
   "metadata": {},
   "source": [
    "First, to look at the Missouri rates"
   ]
  },
  {
   "cell_type": "code",
   "execution_count": 63,
   "metadata": {
    "collapsed": false
   },
   "outputs": [],
   "source": [
    "crime_MO = crime.where(lambda row: row['State'] == 'MO')"
   ]
  },
  {
   "cell_type": "code",
   "execution_count": 64,
   "metadata": {
    "collapsed": false
   },
   "outputs": [
    {
     "name": "stdout",
     "output_type": "stream",
     "text": [
      "67\n"
     ]
    }
   ],
   "source": [
    "rape11 = crime_MO.aggregate(agate.Sum('FORCIB11'))\n",
    "print(rape11)"
   ]
  },
  {
   "cell_type": "code",
   "execution_count": 48,
   "metadata": {
    "collapsed": false
   },
   "outputs": [
    {
     "name": "stdout",
     "output_type": "stream",
     "text": [
      "82\n"
     ]
    }
   ],
   "source": [
    "rape12 = crime_MO.aggregate(agate.Sum('FORCIB12'))\n",
    "print(rape12)"
   ]
  },
  {
   "cell_type": "code",
   "execution_count": 50,
   "metadata": {
    "collapsed": false
   },
   "outputs": [
    {
     "name": "stdout",
     "output_type": "stream",
     "text": [
      "97\n"
     ]
    }
   ],
   "source": [
    "rape13 = crime_MO.aggregate(agate.Sum('FORCIB13'))\n",
    "print(rape13)"
   ]
  },
  {
   "cell_type": "code",
   "execution_count": 65,
   "metadata": {
    "collapsed": false
   },
   "outputs": [
    {
     "name": "stdout",
     "output_type": "stream",
     "text": [
      "1603942\n"
     ]
    }
   ],
   "source": [
    "MO_people = crime_MO.aggregate(agate.Sum('Total'))"
   ]
  },
  {
   "cell_type": "markdown",
   "metadata": {},
   "source": [
    "We now look at the rapes per 100,000 people at Missouri campuses"
   ]
  },
  {
   "cell_type": "code",
   "execution_count": 67,
   "metadata": {
    "collapsed": false
   },
   "outputs": [
    {
     "data": {
      "text/plain": [
       "Decimal('4.177208402797607394781108045')"
      ]
     },
     "execution_count": 67,
     "metadata": {},
     "output_type": "execute_result"
    }
   ],
   "source": [
    "(rape11/MO_people)*100000"
   ]
  },
  {
   "cell_type": "code",
   "execution_count": 68,
   "metadata": {
    "collapsed": false
   },
   "outputs": [
    {
     "data": {
      "text/plain": [
       "Decimal('5.112404313871698602567923279')"
      ]
     },
     "execution_count": 68,
     "metadata": {},
     "output_type": "execute_result"
    }
   ],
   "source": [
    "(rape12/MO_people)*100000"
   ]
  },
  {
   "cell_type": "code",
   "execution_count": 69,
   "metadata": {
    "collapsed": false
   },
   "outputs": [
    {
     "data": {
      "text/plain": [
       "Decimal('6.047600224945789810354738513')"
      ]
     },
     "execution_count": 69,
     "metadata": {},
     "output_type": "execute_result"
    }
   ],
   "source": [
    "(rape13/MO_people)*100000"
   ]
  },
  {
   "cell_type": "markdown",
   "metadata": {},
   "source": [
    "Now to compare Columbia campuses to the Missouri rates"
   ]
  },
  {
   "cell_type": "code",
   "execution_count": 71,
   "metadata": {
    "collapsed": true
   },
   "outputs": [],
   "source": [
    "crime_como = crime_MO.where(lambda row: row['City'] == 'COLUMBIA')\n",
    "como_people = crime_como.aggregate(agate.Sum('Total'))"
   ]
  },
  {
   "cell_type": "code",
   "execution_count": 75,
   "metadata": {
    "collapsed": false
   },
   "outputs": [
    {
     "data": {
      "text/plain": [
       "Decimal('30.91103242848311133591861968')"
      ]
     },
     "execution_count": 75,
     "metadata": {},
     "output_type": "execute_result"
    }
   ],
   "source": [
    "como_rape11 = crime_como.aggregate(agate.Sum('FORCIB11'))\n",
    "(como_rape11/como_people)*100000"
   ]
  },
  {
   "cell_type": "code",
   "execution_count": 76,
   "metadata": {
    "collapsed": false
   },
   "outputs": [
    {
     "data": {
      "text/plain": [
       "Decimal('16.86056314280896981959197437')"
      ]
     },
     "execution_count": 76,
     "metadata": {},
     "output_type": "execute_result"
    }
   ],
   "source": [
    "como_rape12 = crime_como.aggregate(agate.Sum('FORCIB12'))\n",
    "(como_rape12/como_people)*100000"
   ]
  },
  {
   "cell_type": "code",
   "execution_count": 77,
   "metadata": {
    "collapsed": false
   },
   "outputs": [
    {
     "data": {
      "text/plain": [
       "Decimal('22.48075085707862642612263250')"
      ]
     },
     "execution_count": 77,
     "metadata": {},
     "output_type": "execute_result"
    }
   ],
   "source": [
    "como_rape13 = crime_como.aggregate(agate.Sum('FORCIB13'))\n",
    "(como_rape13/como_people)*100000"
   ]
  },
  {
   "cell_type": "markdown",
   "metadata": {},
   "source": [
    "Let's take a look at some other large cities in Missouri. First, Kansas City."
   ]
  },
  {
   "cell_type": "code",
   "execution_count": 82,
   "metadata": {
    "collapsed": true
   },
   "outputs": [],
   "source": [
    "crime_kc = crime_MO.where(lambda row: row['City'] == 'KANSAS CITY')\n",
    "kc_people = crime_kc.aggregate(agate.Sum('Total'))"
   ]
  },
  {
   "cell_type": "code",
   "execution_count": 83,
   "metadata": {
    "collapsed": false
   },
   "outputs": [
    {
     "data": {
      "text/plain": [
       "Decimal('7.126567844925883694412770810')"
      ]
     },
     "execution_count": 83,
     "metadata": {},
     "output_type": "execute_result"
    }
   ],
   "source": [
    "kc_rape11 = crime_kc.aggregate(agate.Sum('FORCIB11'))\n",
    "(kc_rape11/kc_people)*100000"
   ]
  },
  {
   "cell_type": "code",
   "execution_count": 84,
   "metadata": {
    "collapsed": false
   },
   "outputs": [
    {
     "data": {
      "text/plain": [
       "Decimal('5.938806537438236412010642341')"
      ]
     },
     "execution_count": 84,
     "metadata": {},
     "output_type": "execute_result"
    }
   ],
   "source": [
    "kc_rape12 = crime_kc.aggregate(agate.Sum('FORCIB12'))\n",
    "(kc_rape12/kc_people)*100000"
   ]
  },
  {
   "cell_type": "code",
   "execution_count": 85,
   "metadata": {
    "collapsed": false
   },
   "outputs": [
    {
     "data": {
      "text/plain": [
       "Decimal('2.375522614975294564804256937')"
      ]
     },
     "execution_count": 85,
     "metadata": {},
     "output_type": "execute_result"
    }
   ],
   "source": [
    "kc_rape13 = crime_kc.aggregate(agate.Sum('FORCIB13'))\n",
    "(kc_rape13/kc_people)*100000"
   ]
  },
  {
   "cell_type": "markdown",
   "metadata": {},
   "source": [
    "And now for St. Louis"
   ]
  },
  {
   "cell_type": "code",
   "execution_count": 86,
   "metadata": {
    "collapsed": true
   },
   "outputs": [],
   "source": [
    "crime_stl = crime_MO.where(lambda row: row['City'] == 'ST LOUIS')\n",
    "stl_people = crime_stl.aggregate(agate.Sum('Total'))"
   ]
  },
  {
   "cell_type": "code",
   "execution_count": 87,
   "metadata": {
    "collapsed": false
   },
   "outputs": [
    {
     "data": {
      "text/plain": [
       "Decimal('17.00873114865631023925615149')"
      ]
     },
     "execution_count": 87,
     "metadata": {},
     "output_type": "execute_result"
    }
   ],
   "source": [
    "stl_rape11 = crime_stl.aggregate(agate.Sum('FORCIB11'))\n",
    "(stl_rape11/stl_people)*100000"
   ]
  },
  {
   "cell_type": "code",
   "execution_count": 88,
   "metadata": {
    "collapsed": false
   },
   "outputs": [
    {
     "data": {
      "text/plain": [
       "Decimal('17.00873114865631023925615149')"
      ]
     },
     "execution_count": 88,
     "metadata": {},
     "output_type": "execute_result"
    }
   ],
   "source": [
    "stl_rape12 = crime_stl.aggregate(agate.Sum('FORCIB12'))\n",
    "(stl_rape11/stl_people)*100000"
   ]
  },
  {
   "cell_type": "code",
   "execution_count": 89,
   "metadata": {
    "collapsed": false
   },
   "outputs": [
    {
     "data": {
      "text/plain": [
       "Decimal('34.01746229731262047851230298')"
      ]
     },
     "execution_count": 89,
     "metadata": {},
     "output_type": "execute_result"
    }
   ],
   "source": [
    "stl_rape13 = crime_stl.aggregate(agate.Sum('FORCIB13'))\n",
    "(stl_rape13/stl_people)*100000"
   ]
  },
  {
   "cell_type": "code",
   "execution_count": null,
   "metadata": {
    "collapsed": true
   },
   "outputs": [],
   "source": [
    "Taking a look at the national rates"
   ]
  },
  {
   "cell_type": "code",
   "execution_count": 79,
   "metadata": {
    "collapsed": false
   },
   "outputs": [
    {
     "data": {
      "text/plain": [
       "Decimal('5.145435161470140213483729270')"
      ]
     },
     "execution_count": 79,
     "metadata": {},
     "output_type": "execute_result"
    }
   ],
   "source": [
    "nat_people = crime.aggregate(agate.Sum('Total'))\n",
    "nat_rape11 = crime.aggregate(agate.Sum('FORCIB11'))\n",
    "(nat_rape11/nat_people)*100000"
   ]
  },
  {
   "cell_type": "code",
   "execution_count": 80,
   "metadata": {
    "collapsed": false
   },
   "outputs": [
    {
     "data": {
      "text/plain": [
       "Decimal('6.121941104522867553268962562')"
      ]
     },
     "execution_count": 80,
     "metadata": {},
     "output_type": "execute_result"
    }
   ],
   "source": [
    "nat_rape12 = crime.aggregate(agate.Sum('FORCIB12'))\n",
    "(nat_rape12/nat_people)*100000"
   ]
  },
  {
   "cell_type": "code",
   "execution_count": 81,
   "metadata": {
    "collapsed": false
   },
   "outputs": [
    {
     "data": {
      "text/plain": [
       "Decimal('7.589704652772890031684613218')"
      ]
     },
     "execution_count": 81,
     "metadata": {},
     "output_type": "execute_result"
    }
   ],
   "source": [
    "nat_rape13 = crime.aggregate(agate.Sum('FORCIB13'))\n",
    "(nat_rape13/nat_people)*100000"
   ]
  },
  {
   "cell_type": "markdown",
   "metadata": {},
   "source": [
    "As can be seen, in 2011 through 2013, Columbia has a forcible sex act rate far higher than either of the national or state rates — almost consistently two or three times higher. And while Columbia does not follow the national trend of rising rates, it also does not follow Missouri's state trend of falling rates. Factors such as police presence on campus, reportng procedures and campus policies for each Columbia campus should be looked into for further reporting, as well as interviews with administration. It is worth noting that these numbers come before much of the current discussion on the University of Missouri campus about sexual assault and before the restructuring of the Title IX system. More current numbers would be helpful in assessing whether the changes to Title IX reporting were impactful."
   ]
  }
 ],
 "metadata": {
  "kernelspec": {
   "display_name": "Python 2",
   "language": "python",
   "name": "python2"
  },
  "language_info": {
   "codemirror_mode": {
    "name": "ipython",
    "version": 2
   },
   "file_extension": ".py",
   "mimetype": "text/x-python",
   "name": "python",
   "nbconvert_exporter": "python",
   "pygments_lexer": "ipython2",
   "version": "2.7.10"
  }
 },
 "nbformat": 4,
 "nbformat_minor": 0
}
